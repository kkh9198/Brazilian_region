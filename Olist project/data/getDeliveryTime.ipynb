{
 "cells": [
  {
   "cell_type": "code",
   "execution_count": 1,
   "id": "fd2dc197",
   "metadata": {},
   "outputs": [],
   "source": [
    "import pandas as pd\n",
    "import numpy as np\n",
    "import datetime\n",
    "\n",
    "#함수\n",
    "def makeMyList(price,freight,weight,category,s_state,distance,volume):\n",
    "    now = datetime.datetime.now()\n",
    "\n",
    "    return  [price,freight,weight,category,0,'SP',s_state,distance,\n",
    "     now.year,now.month,now.day,now.weekday(),now.hour,volume] \n",
    "\n",
    "def toList(x):\n",
    "    a = []\n",
    "    a.append(str(x))\n",
    "    return a\n",
    "\n",
    "def plusCustomer(x):\n",
    "    return x+\"_C\"\n",
    "\n",
    "def plusSeller(x):\n",
    "    return x+\"_S\"\n",
    "\n",
    "\n",
    "df = pd.read_csv('dataInputFormat.csv')\n",
    "\n",
    "new = pd.DataFrame([makeMyList(28,11.22,950.0,'housewares','SP',184.0,27000.0)],\n",
    "              columns = df.columns.tolist())\n",
    "\n",
    "#test 전처리\n",
    "test = pd.concat([df, new],ignore_index=True)\n",
    "test['product_category_name_english']= test['product_category_name_english'].apply(toList)\n",
    "test['customer_state']= test['customer_state'].apply(plusCustomer)\n",
    "test['seller_state']= test['seller_state'].apply(plusSeller)\n",
    "test['customer_state']= test['customer_state'].apply(toList)\n",
    "test['seller_state']= test['seller_state'].apply(toList)\n",
    "\n",
    "#원핫인코딩\n",
    "from sklearn.preprocessing import MultiLabelBinarizer\n",
    "mlb = MultiLabelBinarizer()\n",
    "test = pd.concat([test, pd.DataFrame(mlb.fit_transform(test['product_category_name_english']), columns = mlb.classes_, index = test.index)], axis = 1)\n",
    "test = pd.concat([test, pd.DataFrame(mlb.fit_transform(test['customer_state']), columns = mlb.classes_, index = test.index)], axis = 1)\n",
    "test = pd.concat([test, pd.DataFrame(mlb.fit_transform(test['seller_state']), columns = mlb.classes_, index = test.index)], axis = 1)\n",
    "\n",
    "#필요없는 컬럼 제거\n",
    "test.drop('product_category_name_english',axis=1,inplace=True)\n",
    "test.drop('customer_state',axis=1,inplace=True)\n",
    "test.drop('seller_state',axis=1,inplace=True)\n",
    "\n",
    "#표준화 \n",
    "from sklearn.model_selection import train_test_split\n",
    "from sklearn.pipeline import Pipeline\n",
    "from sklearn.compose import ColumnTransformer\n",
    "from sklearn.preprocessing import StandardScaler\n",
    "\n",
    "test_no =test.drop(['order_delivered_customer_date_delay'], axis = 1)\n",
    "test_no['order_purchase_month_sin'] = np.sin(test_no['order_purchase_month'] / 12 * 2 * np.pi)\n",
    "test_no['order_purchase_month_cos'] = np.cos(test_no['order_purchase_month'] / 12 * 2 * np.pi)\n",
    "test_no['order_purchase_day_sin'] = np.sin(test_no['order_purchase_day'] / 31 * 2 * np.pi)\n",
    "test_no['order_purchase_day_cos'] = np.cos(test_no['order_purchase_day'] / 31 * 2 * np.pi)\n",
    "test_no['order_purchase_dayofweek_sin'] = np.sin(test_no['order_purchase_dayofweek'] / 7 * 2 * np.pi)\n",
    "test_no['order_purchase_dayofweek_cos'] = np.cos(test_no['order_purchase_dayofweek'] / 7 * 2 * np.pi)\n",
    "test_no['order_purchase_hour_sin'] = np.sin(test_no['order_purchase_hour'] / 24 * 2 * np.pi)\n",
    "test_no['order_purchase_hour_cos'] = np.cos(test_no['order_purchase_hour'] / 24 * 2 * np.pi)\n",
    "\n",
    "#컬럼 드롭\n",
    "columns3 = ['order_purchase_year', 'order_purchase_month', 'order_purchase_day',\n",
    "       'order_purchase_dayofweek', 'order_purchase_hour']\n",
    "test_no.drop(columns3,axis=1,inplace=True)\n",
    "\n",
    "#데이터셋 split\n",
    "train_data, test_data, train_labels, test_labels = train_test_split(test_no.iloc[:-1], test['order_delivered_customer_date_delay'].iloc[:-1], test_size = 0.2, random_state = 42)\n",
    "\n",
    "#연속형 컬럼 정규화\n",
    "numerical_columns = [ 'price', 'freight_value', 'product_weight_g', 'distance_crawling',\n",
    "                     'volume_cm']\n",
    "\n",
    "pipeline = ColumnTransformer([\n",
    "    (\"Numerical\", StandardScaler(), numerical_columns),\n",
    "    ], remainder = 'passthrough',)\n",
    "\n",
    "train_data = pipeline.fit_transform(train_data)\n",
    "test_data = pipeline.transform(test_data)\n",
    "\n",
    "#우리가 필요한 행 정규화\n",
    "last_row_list = test_no.iloc[-1,:].tolist()\n",
    "last_row_df = pd.DataFrame([last_row_list],columns = test_no.columns.tolist())\n",
    "last_row_data = pipeline.transform(last_row_df)"
   ]
  },
  {
   "cell_type": "code",
   "execution_count": 2,
   "id": "43925739",
   "metadata": {},
   "outputs": [
    {
     "data": {
      "text/plain": [
       "XGBRegressor(base_score=0.5, booster='gbtree', colsample_bylevel=1,\n",
       "             colsample_bynode=1, colsample_bytree=1, gamma=0, gpu_id=-1,\n",
       "             importance_type='gain', interaction_constraints='',\n",
       "             learning_rate=0.300000012, max_delta_step=0, max_depth=6,\n",
       "             min_child_weight=1, missing=nan, monotone_constraints='()',\n",
       "             n_estimators=100, n_jobs=4, num_parallel_tree=1, random_state=0,\n",
       "             reg_alpha=0, reg_lambda=1, scale_pos_weight=1, subsample=1,\n",
       "             tree_method='exact', validate_parameters=1, verbosity=None)"
      ]
     },
     "execution_count": 2,
     "metadata": {},
     "output_type": "execute_result"
    }
   ],
   "source": [
    "from xgboost.sklearn import XGBRegressor\n",
    "xgb = XGBRegressor()\n",
    "xgb.fit(train_data, train_labels)"
   ]
  },
  {
   "cell_type": "code",
   "execution_count": 4,
   "id": "3d9ed93b",
   "metadata": {},
   "outputs": [
    {
     "data": {
      "text/plain": [
       "11.690396"
      ]
     },
     "execution_count": 4,
     "metadata": {},
     "output_type": "execute_result"
    }
   ],
   "source": [
    "res =xgb.predict(last_row_data)\n",
    "res[0]"
   ]
  },
  {
   "cell_type": "code",
   "execution_count": null,
   "id": "21425bae",
   "metadata": {},
   "outputs": [],
   "source": []
  }
 ],
 "metadata": {
  "kernelspec": {
   "display_name": "Python 3 (ipykernel)",
   "language": "python",
   "name": "python3"
  },
  "language_info": {
   "codemirror_mode": {
    "name": "ipython",
    "version": 3
   },
   "file_extension": ".py",
   "mimetype": "text/x-python",
   "name": "python",
   "nbconvert_exporter": "python",
   "pygments_lexer": "ipython3",
   "version": "3.9.7"
  },
  "toc": {
   "base_numbering": 1,
   "nav_menu": {},
   "number_sections": true,
   "sideBar": true,
   "skip_h1_title": false,
   "title_cell": "Table of Contents",
   "title_sidebar": "Contents",
   "toc_cell": false,
   "toc_position": {},
   "toc_section_display": true,
   "toc_window_display": false
  }
 },
 "nbformat": 4,
 "nbformat_minor": 5
}
